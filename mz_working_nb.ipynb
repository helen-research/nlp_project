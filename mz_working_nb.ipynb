{
 "cells": [
  {
   "cell_type": "markdown",
   "metadata": {},
   "source": [
    "# PLAN\n",
    "\n",
    "- [ ] Acquisition\n",
    "    - [ ] Select what list of repos to scrape.\n",
    "    - [ ] Get requests form the site.\n",
    "    - [ ] Save responses to csv.\n",
    "- [ ] Preparation\n",
    "    - [ ] Prepare the data for analysis.\n",
    "- [ ] Exploration\n",
    "    - [ ] Answer the following prompts:\n",
    "        - [ ] What are the most common words in READMEs?\n",
    "        - [ ] What does the distribution of IDFs look like for the most common words?\n",
    "        - [ ] Does the length of the README vary by language?\n",
    "        - [ ] Do different languages use a different number of unique words?\n",
    "- [ ] Modeling\n",
    "    - [ ] Transform the data for machine learning; use language to predict.\n",
    "    - [ ] Fit several models using different text repressentations.\n",
    "    - [ ] Build a function that will take in the text of a README file, and makes a prediction of language.\n",
    "- [ ] Delivery\n",
    "    - [ ] Github repo\n",
    "        - [x] This notebook.\n",
    "        - [ ] Documentation within the notebook.\n",
    "        - [ ] README file in the repo.\n",
    "        - [ ] Python scripts if applicable.\n",
    "    - [ ] Google Slides\n",
    "        - [ ] 1-2 slides only summarizing analysis.\n",
    "        - [ ] Visualizations are labeled.\n",
    "        - [ ] Geared for the general audience.\n",
    "        - [ ] Share link @ readme file and/or classroom."
   ]
  },
  {
   "cell_type": "markdown",
   "metadata": {},
   "source": [
    "# ENVIRONMENT"
   ]
  },
  {
   "cell_type": "code",
   "execution_count": 42,
   "metadata": {},
   "outputs": [],
   "source": [
    "# disable warnings\n",
    "import warnings\n",
    "warnings.filterwarnings(\"ignore\")\n",
    "\n",
    "import unicodedata\n",
    "import re\n",
    "from requests import get\n",
    "import json\n",
    "# import spacy\n",
    "import nltk\n",
    "from nltk.tokenize.toktok import ToktokTokenizer\n",
    "from nltk.corpus import stopwords\n",
    "from bs4 import BeautifulSoup\n",
    "import pandas as pd\n",
    "\n",
    "# PAGE = 1\n",
    "# BASEURL = \n",
    "# HEADERS = {'User-Agent': 'Sentient Attack Helicoptor'}"
   ]
  },
  {
   "cell_type": "markdown",
   "metadata": {},
   "source": [
    "# ACQUIRE"
   ]
  },
  {
   "cell_type": "markdown",
   "metadata": {},
   "source": [
    "First thing that needs to happen is to get the links from the most starred github repositories."
   ]
  },
  {
   "cell_type": "code",
   "execution_count": null,
   "metadata": {},
   "outputs": [],
   "source": [
    "#construct a url list\n",
    "\n",
    "def get_url_list(url):\n",
    "    urls = []\n",
    "    response = get(url, headers=HEADERS)\n",
    "    soup = BeautifulSoup(response.content, 'html.parser')\n",
    "    max_page = 11\n",
    "    max_page = max_page + 1\n",
    "    for i in range(1,max_page):\n",
    "        url = 'https://github.com/search?p=' + str(i) + '&q=stars%3A%3E0&s=stars&type=Repositories'\n",
    "        print(f'traversing url: {url}')\n",
    "        response = get(url, headers=HEADERS)\n",
    "        soup = BeautifulSoup(response.text)\n",
    "        for h in soup.find_all('h3'):\n",
    "            a = h.find('a')\n",
    "            urls.append(a.attrs['href'])\n",
    "    print(len(urls))\n",
    "    return urls"
   ]
  },
  {
   "cell_type": "code",
   "execution_count": 66,
   "metadata": {},
   "outputs": [
    {
     "ename": "SyntaxError",
     "evalue": "keyword can't be an expression (<ipython-input-66-97c71e16e25d>, line 21)",
     "output_type": "error",
     "traceback": [
      "\u001b[0;36m  File \u001b[0;32m\"<ipython-input-66-97c71e16e25d>\"\u001b[0;36m, line \u001b[0;32m21\u001b[0m\n\u001b[0;31m    title = soup.find('a', data-pjax='#js-repo-pjax-container').text\u001b[0m\n\u001b[0m                          ^\u001b[0m\n\u001b[0;31mSyntaxError\u001b[0m\u001b[0;31m:\u001b[0m keyword can't be an expression\n"
     ]
    }
   ],
   "source": [
    "def grab_readmes_and_languages(urls):\n",
    "    readmes = []\n",
    "    languages = []\n",
    "    for url in urls:\n",
    "        response = get(url)\n",
    "        soup = BeautifulSoup(response.content, 'html.parser')\n",
    "        print('Retrieving README')\n",
    "        if soup.find('div', class_='Box-body') == None:\n",
    "            print('Skipping because of no README')\n",
    "            continue\n",
    "        else:\n",
    "            single_readme = soup.find('div', class_='Box-body').text\n",
    "            print('Got README')\n",
    "        print('Retrieving language')\n",
    "        if soup.find('span', class_='lang') == None:\n",
    "            print('Skipping because of no language')\n",
    "            continue\n",
    "        else:\n",
    "            repo_language = soup.find('span', class_='lang').text\n",
    "            print('Got language')\n",
    "        title = soup.find('a', data-pjax='#js-repo-pjax-container').text\n",
    "        print(title)\n",
    "        languages.append(repo_language)\n",
    "        readmes.append(single_readme)\n",
    "    df = pd.DataFrame({'readme':readmes, 'language':languages})\n",
    "    #     with open('blog_articles.json', 'w') as blog:\n",
    "    #         json.dump(articles, blog, indent=4)\n",
    "    \n",
    "    return df\n"
   ]
  },
  {
   "cell_type": "code",
   "execution_count": 67,
   "metadata": {},
   "outputs": [
    {
     "name": "stdout",
     "output_type": "stream",
     "text": [
      "Retrieving README\n",
      "Got README\n",
      "Retrieving language\n",
      "Got language\n",
      "Retrieving README\n",
      "Got README\n",
      "Retrieving language\n",
      "Got language\n",
      "Retrieving README\n",
      "Got README\n",
      "Retrieving language\n",
      "Got language\n",
      "Retrieving README\n",
      "Got README\n",
      "Retrieving language\n",
      "Got language\n",
      "Retrieving README\n",
      "Got README\n",
      "Retrieving language\n",
      "Got language\n",
      "Retrieving README\n",
      "Got README\n",
      "Retrieving language\n",
      "Got language\n",
      "Retrieving README\n",
      "Got README\n",
      "Retrieving language\n",
      "Skipping because of no language\n",
      "Retrieving README\n",
      "Got README\n",
      "Retrieving language\n",
      "Skipping because of no language\n",
      "Retrieving README\n",
      "Got README\n",
      "Retrieving language\n",
      "Skipping because of no language\n",
      "Retrieving README\n",
      "Got README\n",
      "Retrieving language\n",
      "Got language\n"
     ]
    },
    {
     "data": {
      "text/html": [
       "<div>\n",
       "<style scoped>\n",
       "    .dataframe tbody tr th:only-of-type {\n",
       "        vertical-align: middle;\n",
       "    }\n",
       "\n",
       "    .dataframe tbody tr th {\n",
       "        vertical-align: top;\n",
       "    }\n",
       "\n",
       "    .dataframe thead th {\n",
       "        text-align: right;\n",
       "    }\n",
       "</style>\n",
       "<table border=\"1\" class=\"dataframe\">\n",
       "  <thead>\n",
       "    <tr style=\"text-align: right;\">\n",
       "      <th></th>\n",
       "      <th>readme</th>\n",
       "      <th>language</th>\n",
       "    </tr>\n",
       "  </thead>\n",
       "  <tbody>\n",
       "    <tr>\n",
       "      <th>0</th>\n",
       "      <td>\\n\\n\\n\\n\\n\\nWelcome to freeCodeCamp.org's open...</td>\n",
       "      <td>JavaScript</td>\n",
       "    </tr>\n",
       "    <tr>\n",
       "      <th>1</th>\n",
       "      <td>\\n996.ICU\\nPlease note that there exists NO ot...</td>\n",
       "      <td>Rust</td>\n",
       "    </tr>\n",
       "    <tr>\n",
       "      <th>2</th>\n",
       "      <td>\\n\\n\\n\\n\\n\\n\\n\\n\\n\\n\\n\\nSupporting Vue.js\\nVue...</td>\n",
       "      <td>JavaScript</td>\n",
       "    </tr>\n",
       "    <tr>\n",
       "      <th>3</th>\n",
       "      <td>\\n\\n\\n\\n\\n\\nBootstrap\\n\\n  Sleek, intuitive, a...</td>\n",
       "      <td>JavaScript</td>\n",
       "    </tr>\n",
       "    <tr>\n",
       "      <th>4</th>\n",
       "      <td>\\nReact ·    \\nReact is a JavaScript library f...</td>\n",
       "      <td>JavaScript</td>\n",
       "    </tr>\n",
       "    <tr>\n",
       "      <th>5</th>\n",
       "      <td>\\n\\n\\n\\n\\n\\n\\n\\nDocumentation\\n\\n\\n\\n\\n\\n\\n\\n\\...</td>\n",
       "      <td>C++</td>\n",
       "    </tr>\n",
       "    <tr>\n",
       "      <th>6</th>\n",
       "      <td>\\nAirbnb JavaScript Style Guide() {\\nA mostly ...</td>\n",
       "      <td>JavaScript</td>\n",
       "    </tr>\n",
       "  </tbody>\n",
       "</table>\n",
       "</div>"
      ],
      "text/plain": [
       "                                              readme    language\n",
       "0  \\n\\n\\n\\n\\n\\nWelcome to freeCodeCamp.org's open...  JavaScript\n",
       "1  \\n996.ICU\\nPlease note that there exists NO ot...        Rust\n",
       "2  \\n\\n\\n\\n\\n\\n\\n\\n\\n\\n\\n\\nSupporting Vue.js\\nVue...  JavaScript\n",
       "3  \\n\\n\\n\\n\\n\\nBootstrap\\n\\n  Sleek, intuitive, a...  JavaScript\n",
       "4  \\nReact ·    \\nReact is a JavaScript library f...  JavaScript\n",
       "5  \\n\\n\\n\\n\\n\\n\\n\\nDocumentation\\n\\n\\n\\n\\n\\n\\n\\n\\...         C++\n",
       "6  \\nAirbnb JavaScript Style Guide() {\\nA mostly ...  JavaScript"
      ]
     },
     "execution_count": 67,
     "metadata": {},
     "output_type": "execute_result"
    }
   ],
   "source": [
    "urls = ['https://github.com/freeCodeCamp/freeCodeCamp', 'https://github.com/996icu/996.ICU',\n",
    "        'https://github.com/vuejs/vue', 'https://github.com/twbs/bootstrap', 'https://github.com/facebook/react', \n",
    "        'https://github.com/tensorflow/tensorflow', 'https://github.com/EbookFoundation/free-programming-books', \n",
    "        'https://github.com/sindresorhus/awesome', 'https://github.com/getify/You-Dont-Know-JS', \n",
    "        'https://github.com/airbnb/javascript']\n",
    "grab_readmes_and_languages(urls)"
   ]
  },
  {
   "cell_type": "code",
   "execution_count": 39,
   "metadata": {},
   "outputs": [
    {
     "name": "stdout",
     "output_type": "stream",
     "text": [
      "Retrieving README\n",
      "Got README\n",
      "Retrieving language\n",
      "No language found\n",
      "[\"\\nThis page is available as an easy-to-read website at https://ebookfoundation.github.io/.\\nList of Free Learning Resources \\nView the English list\\nIntro\\nThis list was originally a clone of stackoverflow - List of Freely Available Programming Books with contributions from Karan Bhangui and George Stocker.\\nThe list was moved to GitHub by Victor Felder for collaborative updating and maintenance. It has grown to become one of the most popular repositories on Github, with over 100,000 stars, over 4500 commits, over 950 contributors, and over 25,000 forks.\\nThe repo is now administered by the Free Ebook Foundation, a not-for-profit organization devoted to promoting the creation, distribution, archiving and sustainability of free ebooks. Donations to the Free Ebook Foundation are tax-deductible in the US.\\nHow To Contribute\\nPlease read CONTRIBUTING. If you're new to Github, welcome!\\nHow to Share\\n\\nShare on Twitter\\nShare on Facebook\\nShare on Google Plus\\nShare on LinkedIn\\nShare on Telegram\\n\\nIn Other Written Languages\\n\\nArabic\\nAzerbaijani\\nBengali\\nBulgarian\\nBurmese\\nChinese\\nCzech\\nDutch\\nEnglish\\nFrench\\nGerman\\nGreek\\nHungarian\\nIndonesian\\nItalian\\nJapanese\\nKorean\\nPersian/Farsi (Iran)\\nPolish\\nPortuguese (Brazil)\\nPortuguese (Portugal)\\nRomanian (Romania)\\nRussian\\nSlovak\\nSpanish\\nSwedish\\nTurkish\\nUkrainian\\n\\nFree Online Courses\\n\\nBulgarian\\nEnglish\\nFinnish\\nGerman\\nItalian\\nPolish\\nPortuguese (Brazil)\\nRussian\\nSpanish\\nVietnamese\\n\\nInteractive Programming Resources\\n\\nEnglish\\nRussian\\n\\nProblem Sets and Competitive Programming\\n\\nProblem Sets\\n\\nPodcast - Screencast\\nFree Podcasts and Screencasts:\\n\\nCzech\\nEnglish\\nPortuguese (Brazil)\\nRussian\\nSwedish\\n\\nProgramming Playgrounds\\n\\nFree Programming Playgrounds\\n\\nLicense\\nEach file included in this repository is licensed under the CC BY License.\\n\\n\"]\n",
      "['None']\n",
      "Retrieving README\n",
      "Got README\n",
      "Retrieving language\n",
      "Got language\n",
      "[\"\\nThis page is available as an easy-to-read website at https://ebookfoundation.github.io/.\\nList of Free Learning Resources \\nView the English list\\nIntro\\nThis list was originally a clone of stackoverflow - List of Freely Available Programming Books with contributions from Karan Bhangui and George Stocker.\\nThe list was moved to GitHub by Victor Felder for collaborative updating and maintenance. It has grown to become one of the most popular repositories on Github, with over 100,000 stars, over 4500 commits, over 950 contributors, and over 25,000 forks.\\nThe repo is now administered by the Free Ebook Foundation, a not-for-profit organization devoted to promoting the creation, distribution, archiving and sustainability of free ebooks. Donations to the Free Ebook Foundation are tax-deductible in the US.\\nHow To Contribute\\nPlease read CONTRIBUTING. If you're new to Github, welcome!\\nHow to Share\\n\\nShare on Twitter\\nShare on Facebook\\nShare on Google Plus\\nShare on LinkedIn\\nShare on Telegram\\n\\nIn Other Written Languages\\n\\nArabic\\nAzerbaijani\\nBengali\\nBulgarian\\nBurmese\\nChinese\\nCzech\\nDutch\\nEnglish\\nFrench\\nGerman\\nGreek\\nHungarian\\nIndonesian\\nItalian\\nJapanese\\nKorean\\nPersian/Farsi (Iran)\\nPolish\\nPortuguese (Brazil)\\nPortuguese (Portugal)\\nRomanian (Romania)\\nRussian\\nSlovak\\nSpanish\\nSwedish\\nTurkish\\nUkrainian\\n\\nFree Online Courses\\n\\nBulgarian\\nEnglish\\nFinnish\\nGerman\\nItalian\\nPolish\\nPortuguese (Brazil)\\nRussian\\nSpanish\\nVietnamese\\n\\nInteractive Programming Resources\\n\\nEnglish\\nRussian\\n\\nProblem Sets and Competitive Programming\\n\\nProblem Sets\\n\\nPodcast - Screencast\\nFree Podcasts and Screencasts:\\n\\nCzech\\nEnglish\\nPortuguese (Brazil)\\nRussian\\nSwedish\\n\\nProgramming Playgrounds\\n\\nFree Programming Playgrounds\\n\\nLicense\\nEach file included in this repository is licensed under the CC BY License.\\n\\n\", '\\n996.ICU\\nPlease note that there exists NO other official account, app or merchandise except for the official domain and this repository.\\n\\n中文版\\n\\nThe name 996.ICU refers to \"Work by \\'996\\', sick in ICU\", an ironic saying among Chinese developers, which means that by following the \"996\" work schedule, you are risking yourself getting into the ICU (Intensive Care Unit).\\n\\n\\n\\n\\nRelated press coverage:\\n\\nRadiiChina: GitHub Protest Over Chinese Tech Companies’ “996” Culture Goes Viral\\nFinancial Times: China tech worker protest against long working hours goes viral\\nWired: How github is helping overworked Chinese programmers\\n\\nSee a full list of press\\nWhat is 996?\\nA \"996\" work schedule refers to an unofficial work schedule (9 a.m.–9 p.m., 6 days per week) that has been gaining popularity. Serving a company that encourages the \"996\" work schedule usually means working for at least 60 hours per week.\\nVisit 996 working hour system on Wikipedia for more details.\\nWhat can I do?\\n\\nUpdate this list with evidence to help every worker.  Third party perfect list channel\\nAdd this badge to your project to support 996.ICU.\\nLicense your awesome projects with the Anti 996 License.\\nAdd proposals to give advice about the development of 996.ICU.\\nGo home at 6 pm without feeling sorry.\\n\\nVoices\\nGovernment\\n\\nThe 996 shall disappear\\n\\nCapitalists\\n\\nJack Ma, founder of Alibaba: \\'996\\' is a huge blessing.\\nRichard Liu, founder of JD.com: We will never force our employee to work as \\'996\\'.\\nHowever, as a result many anonymous employees says that there is a list of departments which ranked them by overtime hours. The shortest will take punishments. And the leaders never leave evidences when ask employees to work as \\'996\\'.\\nBai Ya, founder of Youzan: This will definitely be a right decision when we look back in a few years\\n\\nPrinciples and purposes\\n\\n\\n996.ICU is an initiative initiated by IT practitioners. We welcome people from other fields and other countries to join the discussion.\\n\\n\\nThis is not a political movement. We firmly uphold the labor law and request employers to respect the legitimate rights and interests of their employees.\\n\\n\\nIt is great progress from closed source to open source, and it will also be great progress from open source to emphasizing labor rights at the same time. What we want is to create an open source software license that advocates workers\\' rights.\\n\\n\\nWe are willing to hear all positive and constructive proposals and advocate mature and responsible speech.\\n\\n\\nExpanding influence\\nPlease feel free to translate 996.ICU\\'s contents, adjust the format, add some contents or fix grammatical errors. Please note that adding too many translations is getting off the track.\\nCommunity powers\\n\\n955.WLB is a repo that maintains a whitelist of 955 work-life balanced companies.\\n996.LIST is a repo of a rank list of 996 companies and 955 companies.\\n996.law This is a manual for workers who want to conduct labor arbitration and litigation on their own.\\n996.YAOCL Yet Another Overtime Corps List, current another anonymous voting list.\\n996.Leave encourages & introduces working overseas.\\n996.RIP Old news never vanished.\\n996.Petition initiates petitions by sending open letters to relevant government departments.\\n996.action Supporters are encouraged to participate in public supervision.\\n996.avengers adds 996ICU and 955WLB tags on recruitment websites.\\n996.OD occupational diseases are the forewarning of ICU.\\nsupport.996.ICU Microsoft and GitHub Workers Support 996.ICU\\n\\nWhere are the issues?\\nEven with interaction limits on, the issues area was totally out of control.\\nSo I personally decided to switch it off, not by GitHub or others.\\nLicense\\nAnti-996 License\\n\\n\\nThe purpose of this license is to prevent anti-labour-law companies from using the software or codes under the license, and force those companies to weigh their way of working\\n\\n\\nSee a full list of projects under Anti-996 License\\n\\n\\nThis draft is adapted from the MIT license. For a more detailed explanation, please see Wiki. This license is designed to be compatible with all major open source licenses.\\n\\n\\nFor law professionals or anyone who is willing to contribute to future version directly, please go to Anti-996-License-1.0. Thank you.\\n\\n\\nContact\\nYou can reach me by E-mail if you need.\\n\\n']\n",
      "['None', 'Rust']\n"
     ]
    },
    {
     "name": "stdout",
     "output_type": "stream",
     "text": [
      "Retrieving README\n",
      "Got README\n",
      "Retrieving language\n",
      "Got language\n",
      "[\"\\nThis page is available as an easy-to-read website at https://ebookfoundation.github.io/.\\nList of Free Learning Resources \\nView the English list\\nIntro\\nThis list was originally a clone of stackoverflow - List of Freely Available Programming Books with contributions from Karan Bhangui and George Stocker.\\nThe list was moved to GitHub by Victor Felder for collaborative updating and maintenance. It has grown to become one of the most popular repositories on Github, with over 100,000 stars, over 4500 commits, over 950 contributors, and over 25,000 forks.\\nThe repo is now administered by the Free Ebook Foundation, a not-for-profit organization devoted to promoting the creation, distribution, archiving and sustainability of free ebooks. Donations to the Free Ebook Foundation are tax-deductible in the US.\\nHow To Contribute\\nPlease read CONTRIBUTING. If you're new to Github, welcome!\\nHow to Share\\n\\nShare on Twitter\\nShare on Facebook\\nShare on Google Plus\\nShare on LinkedIn\\nShare on Telegram\\n\\nIn Other Written Languages\\n\\nArabic\\nAzerbaijani\\nBengali\\nBulgarian\\nBurmese\\nChinese\\nCzech\\nDutch\\nEnglish\\nFrench\\nGerman\\nGreek\\nHungarian\\nIndonesian\\nItalian\\nJapanese\\nKorean\\nPersian/Farsi (Iran)\\nPolish\\nPortuguese (Brazil)\\nPortuguese (Portugal)\\nRomanian (Romania)\\nRussian\\nSlovak\\nSpanish\\nSwedish\\nTurkish\\nUkrainian\\n\\nFree Online Courses\\n\\nBulgarian\\nEnglish\\nFinnish\\nGerman\\nItalian\\nPolish\\nPortuguese (Brazil)\\nRussian\\nSpanish\\nVietnamese\\n\\nInteractive Programming Resources\\n\\nEnglish\\nRussian\\n\\nProblem Sets and Competitive Programming\\n\\nProblem Sets\\n\\nPodcast - Screencast\\nFree Podcasts and Screencasts:\\n\\nCzech\\nEnglish\\nPortuguese (Brazil)\\nRussian\\nSwedish\\n\\nProgramming Playgrounds\\n\\nFree Programming Playgrounds\\n\\nLicense\\nEach file included in this repository is licensed under the CC BY License.\\n\\n\", '\\n996.ICU\\nPlease note that there exists NO other official account, app or merchandise except for the official domain and this repository.\\n\\n中文版\\n\\nThe name 996.ICU refers to \"Work by \\'996\\', sick in ICU\", an ironic saying among Chinese developers, which means that by following the \"996\" work schedule, you are risking yourself getting into the ICU (Intensive Care Unit).\\n\\n\\n\\n\\nRelated press coverage:\\n\\nRadiiChina: GitHub Protest Over Chinese Tech Companies’ “996” Culture Goes Viral\\nFinancial Times: China tech worker protest against long working hours goes viral\\nWired: How github is helping overworked Chinese programmers\\n\\nSee a full list of press\\nWhat is 996?\\nA \"996\" work schedule refers to an unofficial work schedule (9 a.m.–9 p.m., 6 days per week) that has been gaining popularity. Serving a company that encourages the \"996\" work schedule usually means working for at least 60 hours per week.\\nVisit 996 working hour system on Wikipedia for more details.\\nWhat can I do?\\n\\nUpdate this list with evidence to help every worker.  Third party perfect list channel\\nAdd this badge to your project to support 996.ICU.\\nLicense your awesome projects with the Anti 996 License.\\nAdd proposals to give advice about the development of 996.ICU.\\nGo home at 6 pm without feeling sorry.\\n\\nVoices\\nGovernment\\n\\nThe 996 shall disappear\\n\\nCapitalists\\n\\nJack Ma, founder of Alibaba: \\'996\\' is a huge blessing.\\nRichard Liu, founder of JD.com: We will never force our employee to work as \\'996\\'.\\nHowever, as a result many anonymous employees says that there is a list of departments which ranked them by overtime hours. The shortest will take punishments. And the leaders never leave evidences when ask employees to work as \\'996\\'.\\nBai Ya, founder of Youzan: This will definitely be a right decision when we look back in a few years\\n\\nPrinciples and purposes\\n\\n\\n996.ICU is an initiative initiated by IT practitioners. We welcome people from other fields and other countries to join the discussion.\\n\\n\\nThis is not a political movement. We firmly uphold the labor law and request employers to respect the legitimate rights and interests of their employees.\\n\\n\\nIt is great progress from closed source to open source, and it will also be great progress from open source to emphasizing labor rights at the same time. What we want is to create an open source software license that advocates workers\\' rights.\\n\\n\\nWe are willing to hear all positive and constructive proposals and advocate mature and responsible speech.\\n\\n\\nExpanding influence\\nPlease feel free to translate 996.ICU\\'s contents, adjust the format, add some contents or fix grammatical errors. Please note that adding too many translations is getting off the track.\\nCommunity powers\\n\\n955.WLB is a repo that maintains a whitelist of 955 work-life balanced companies.\\n996.LIST is a repo of a rank list of 996 companies and 955 companies.\\n996.law This is a manual for workers who want to conduct labor arbitration and litigation on their own.\\n996.YAOCL Yet Another Overtime Corps List, current another anonymous voting list.\\n996.Leave encourages & introduces working overseas.\\n996.RIP Old news never vanished.\\n996.Petition initiates petitions by sending open letters to relevant government departments.\\n996.action Supporters are encouraged to participate in public supervision.\\n996.avengers adds 996ICU and 955WLB tags on recruitment websites.\\n996.OD occupational diseases are the forewarning of ICU.\\nsupport.996.ICU Microsoft and GitHub Workers Support 996.ICU\\n\\nWhere are the issues?\\nEven with interaction limits on, the issues area was totally out of control.\\nSo I personally decided to switch it off, not by GitHub or others.\\nLicense\\nAnti-996 License\\n\\n\\nThe purpose of this license is to prevent anti-labour-law companies from using the software or codes under the license, and force those companies to weigh their way of working\\n\\n\\nSee a full list of projects under Anti-996 License\\n\\n\\nThis draft is adapted from the MIT license. For a more detailed explanation, please see Wiki. This license is designed to be compatible with all major open source licenses.\\n\\n\\nFor law professionals or anyone who is willing to contribute to future version directly, please go to Anti-996-License-1.0. Thank you.\\n\\n\\nContact\\nYou can reach me by E-mail if you need.\\n\\n', \"\\n\\n\\n\\n\\n\\n\\n\\n\\n\\n\\n\\nSupporting Vue.js\\nVue.js is an MIT-licensed open source project with its ongoing development made possible entirely by the support of these awesome backers. If you'd like to join them, please consider:\\n\\nBecome a backer or sponsor on Patreon.\\nBecome a backer or sponsor on Open Collective.\\nOne-time donation via PayPal or crypto-currencies.\\n\\nWhat's the difference between Patreon and OpenCollective?\\nFunds donated via Patreon go directly to support Evan You's full-time work on Vue.js. Funds donated via OpenCollective are managed with transparent expenses and will be used for compensating work and expenses for core team members or sponsoring community events. Your name/logo will receive proper recognition and exposure by donating on either platform.\\nSpecial Sponsors\\n\\n\\n\\n\\n\\nPlatinum Sponsors\\n\\n\\n\\n\\n\\n\\n\\n\\n\\n\\n\\n\\n\\n\\n\\n\\n\\n\\n\\n\\n\\n\\n\\n\\n\\n\\n\\n\\n\\n\\n\\n\\n\\n\\n\\n\\n\\n\\nPlatinum Sponsors (China)\\n\\n\\n\\n\\n\\n\\n\\n\\n\\n\\n\\nGold Sponsors\\n\\n\\n\\n\\n\\n\\n\\n\\n\\n\\n\\n\\n\\n\\n\\n\\n\\n\\n\\n\\n\\n\\n\\n\\n\\n\\n\\n\\n\\n\\n\\n\\n\\n\\n\\n\\n\\n\\n\\n\\n\\n\\n\\n\\n\\n\\n\\n\\n\\n\\n\\n\\n\\n\\n\\n\\n\\n\\n\\n\\n\\n\\n\\n\\n\\n\\n\\n\\n\\n\\n\\n\\n\\n\\n\\n\\n\\n\\n\\n\\n\\n\\n\\n\\n\\n\\n\\n\\n\\n\\n\\n\\n\\n\\n\\n\\n\\n\\n\\n\\n\\n\\n\\n\\n\\n\\n\\n\\n\\n\\n\\n\\n\\n\\n\\n\\n\\n\\n\\n\\n\\n\\n\\n\\n\\n\\n\\n\\n\\n\\n\\n\\n\\n\\n\\n\\n\\n\\n\\n\\n\\n\\n\\n\\nSponsors via Open Collective\\nPlatinum\\n\\n\\nGold\\n\\n\\n\\n\\n\\n\\nIntroduction\\nVue (pronounced /vjuː/, like view) is a progressive framework for building user interfaces. It is designed from the ground up to be incrementally adoptable, and can easily scale between a library and a framework depending on different use cases. It consists of an approachable core library that focuses on the view layer only, and an ecosystem of supporting libraries that helps you tackle complexity in large Single-Page Applications.\\nBrowser Compatibility\\nVue.js supports all browsers that are ES5-compliant (IE8 and below are not supported).\\nEcosystem\\n\\n\\n\\nProject\\nStatus\\nDescription\\n\\n\\n\\n\\nvue-router\\n\\nSingle-page application routing\\n\\n\\nvuex\\n\\nLarge-scale state management\\n\\n\\nvue-cli\\n\\nProject scaffolding\\n\\n\\nvue-loader\\n\\nSingle File Component (*.vue file) loader for webpack\\n\\n\\nvue-server-renderer\\n\\nServer-side rendering support\\n\\n\\nvue-class-component\\n\\nTypeScript decorator for a class-based API\\n\\n\\nvue-rx\\n\\nRxJS integration\\n\\n\\nvue-devtools\\n\\nBrowser DevTools extension\\n\\n\\n\\nDocumentation\\nTo check out live examples and docs, visit vuejs.org.\\nQuestions\\nFor questions and support please use the official forum or community chat. The issue list of this repo is exclusively for bug reports and feature requests.\\nIssues\\nPlease make sure to read the Issue Reporting Checklist before opening an issue. Issues not conforming to the guidelines may be closed immediately.\\nChangelog\\nDetailed changes for each release are documented in the release notes.\\nStay In Touch\\n\\nTwitter\\nBlog\\nJob Board\\n\\nContribution\\nPlease make sure to read the Contributing Guide before making a pull request. If you have a Vue-related project/component/tool, add it with a pull request to this curated list!\\nThank you to all the people who already contributed to Vue!\\n\\nLicense\\nMIT\\nCopyright (c) 2013-present, Yuxi (Evan) You\\n\\n\"]\n",
      "['None', 'Rust', 'JavaScript']\n"
     ]
    },
    {
     "name": "stdout",
     "output_type": "stream",
     "text": [
      "Retrieving README\n",
      "Got README\n",
      "Retrieving language\n",
      "Got language\n",
      "[\"\\nThis page is available as an easy-to-read website at https://ebookfoundation.github.io/.\\nList of Free Learning Resources \\nView the English list\\nIntro\\nThis list was originally a clone of stackoverflow - List of Freely Available Programming Books with contributions from Karan Bhangui and George Stocker.\\nThe list was moved to GitHub by Victor Felder for collaborative updating and maintenance. It has grown to become one of the most popular repositories on Github, with over 100,000 stars, over 4500 commits, over 950 contributors, and over 25,000 forks.\\nThe repo is now administered by the Free Ebook Foundation, a not-for-profit organization devoted to promoting the creation, distribution, archiving and sustainability of free ebooks. Donations to the Free Ebook Foundation are tax-deductible in the US.\\nHow To Contribute\\nPlease read CONTRIBUTING. If you're new to Github, welcome!\\nHow to Share\\n\\nShare on Twitter\\nShare on Facebook\\nShare on Google Plus\\nShare on LinkedIn\\nShare on Telegram\\n\\nIn Other Written Languages\\n\\nArabic\\nAzerbaijani\\nBengali\\nBulgarian\\nBurmese\\nChinese\\nCzech\\nDutch\\nEnglish\\nFrench\\nGerman\\nGreek\\nHungarian\\nIndonesian\\nItalian\\nJapanese\\nKorean\\nPersian/Farsi (Iran)\\nPolish\\nPortuguese (Brazil)\\nPortuguese (Portugal)\\nRomanian (Romania)\\nRussian\\nSlovak\\nSpanish\\nSwedish\\nTurkish\\nUkrainian\\n\\nFree Online Courses\\n\\nBulgarian\\nEnglish\\nFinnish\\nGerman\\nItalian\\nPolish\\nPortuguese (Brazil)\\nRussian\\nSpanish\\nVietnamese\\n\\nInteractive Programming Resources\\n\\nEnglish\\nRussian\\n\\nProblem Sets and Competitive Programming\\n\\nProblem Sets\\n\\nPodcast - Screencast\\nFree Podcasts and Screencasts:\\n\\nCzech\\nEnglish\\nPortuguese (Brazil)\\nRussian\\nSwedish\\n\\nProgramming Playgrounds\\n\\nFree Programming Playgrounds\\n\\nLicense\\nEach file included in this repository is licensed under the CC BY License.\\n\\n\", '\\n996.ICU\\nPlease note that there exists NO other official account, app or merchandise except for the official domain and this repository.\\n\\n中文版\\n\\nThe name 996.ICU refers to \"Work by \\'996\\', sick in ICU\", an ironic saying among Chinese developers, which means that by following the \"996\" work schedule, you are risking yourself getting into the ICU (Intensive Care Unit).\\n\\n\\n\\n\\nRelated press coverage:\\n\\nRadiiChina: GitHub Protest Over Chinese Tech Companies’ “996” Culture Goes Viral\\nFinancial Times: China tech worker protest against long working hours goes viral\\nWired: How github is helping overworked Chinese programmers\\n\\nSee a full list of press\\nWhat is 996?\\nA \"996\" work schedule refers to an unofficial work schedule (9 a.m.–9 p.m., 6 days per week) that has been gaining popularity. Serving a company that encourages the \"996\" work schedule usually means working for at least 60 hours per week.\\nVisit 996 working hour system on Wikipedia for more details.\\nWhat can I do?\\n\\nUpdate this list with evidence to help every worker.  Third party perfect list channel\\nAdd this badge to your project to support 996.ICU.\\nLicense your awesome projects with the Anti 996 License.\\nAdd proposals to give advice about the development of 996.ICU.\\nGo home at 6 pm without feeling sorry.\\n\\nVoices\\nGovernment\\n\\nThe 996 shall disappear\\n\\nCapitalists\\n\\nJack Ma, founder of Alibaba: \\'996\\' is a huge blessing.\\nRichard Liu, founder of JD.com: We will never force our employee to work as \\'996\\'.\\nHowever, as a result many anonymous employees says that there is a list of departments which ranked them by overtime hours. The shortest will take punishments. And the leaders never leave evidences when ask employees to work as \\'996\\'.\\nBai Ya, founder of Youzan: This will definitely be a right decision when we look back in a few years\\n\\nPrinciples and purposes\\n\\n\\n996.ICU is an initiative initiated by IT practitioners. We welcome people from other fields and other countries to join the discussion.\\n\\n\\nThis is not a political movement. We firmly uphold the labor law and request employers to respect the legitimate rights and interests of their employees.\\n\\n\\nIt is great progress from closed source to open source, and it will also be great progress from open source to emphasizing labor rights at the same time. What we want is to create an open source software license that advocates workers\\' rights.\\n\\n\\nWe are willing to hear all positive and constructive proposals and advocate mature and responsible speech.\\n\\n\\nExpanding influence\\nPlease feel free to translate 996.ICU\\'s contents, adjust the format, add some contents or fix grammatical errors. Please note that adding too many translations is getting off the track.\\nCommunity powers\\n\\n955.WLB is a repo that maintains a whitelist of 955 work-life balanced companies.\\n996.LIST is a repo of a rank list of 996 companies and 955 companies.\\n996.law This is a manual for workers who want to conduct labor arbitration and litigation on their own.\\n996.YAOCL Yet Another Overtime Corps List, current another anonymous voting list.\\n996.Leave encourages & introduces working overseas.\\n996.RIP Old news never vanished.\\n996.Petition initiates petitions by sending open letters to relevant government departments.\\n996.action Supporters are encouraged to participate in public supervision.\\n996.avengers adds 996ICU and 955WLB tags on recruitment websites.\\n996.OD occupational diseases are the forewarning of ICU.\\nsupport.996.ICU Microsoft and GitHub Workers Support 996.ICU\\n\\nWhere are the issues?\\nEven with interaction limits on, the issues area was totally out of control.\\nSo I personally decided to switch it off, not by GitHub or others.\\nLicense\\nAnti-996 License\\n\\n\\nThe purpose of this license is to prevent anti-labour-law companies from using the software or codes under the license, and force those companies to weigh their way of working\\n\\n\\nSee a full list of projects under Anti-996 License\\n\\n\\nThis draft is adapted from the MIT license. For a more detailed explanation, please see Wiki. This license is designed to be compatible with all major open source licenses.\\n\\n\\nFor law professionals or anyone who is willing to contribute to future version directly, please go to Anti-996-License-1.0. Thank you.\\n\\n\\nContact\\nYou can reach me by E-mail if you need.\\n\\n', \"\\n\\n\\n\\n\\n\\n\\n\\n\\n\\n\\n\\nSupporting Vue.js\\nVue.js is an MIT-licensed open source project with its ongoing development made possible entirely by the support of these awesome backers. If you'd like to join them, please consider:\\n\\nBecome a backer or sponsor on Patreon.\\nBecome a backer or sponsor on Open Collective.\\nOne-time donation via PayPal or crypto-currencies.\\n\\nWhat's the difference between Patreon and OpenCollective?\\nFunds donated via Patreon go directly to support Evan You's full-time work on Vue.js. Funds donated via OpenCollective are managed with transparent expenses and will be used for compensating work and expenses for core team members or sponsoring community events. Your name/logo will receive proper recognition and exposure by donating on either platform.\\nSpecial Sponsors\\n\\n\\n\\n\\n\\nPlatinum Sponsors\\n\\n\\n\\n\\n\\n\\n\\n\\n\\n\\n\\n\\n\\n\\n\\n\\n\\n\\n\\n\\n\\n\\n\\n\\n\\n\\n\\n\\n\\n\\n\\n\\n\\n\\n\\n\\n\\n\\nPlatinum Sponsors (China)\\n\\n\\n\\n\\n\\n\\n\\n\\n\\n\\n\\nGold Sponsors\\n\\n\\n\\n\\n\\n\\n\\n\\n\\n\\n\\n\\n\\n\\n\\n\\n\\n\\n\\n\\n\\n\\n\\n\\n\\n\\n\\n\\n\\n\\n\\n\\n\\n\\n\\n\\n\\n\\n\\n\\n\\n\\n\\n\\n\\n\\n\\n\\n\\n\\n\\n\\n\\n\\n\\n\\n\\n\\n\\n\\n\\n\\n\\n\\n\\n\\n\\n\\n\\n\\n\\n\\n\\n\\n\\n\\n\\n\\n\\n\\n\\n\\n\\n\\n\\n\\n\\n\\n\\n\\n\\n\\n\\n\\n\\n\\n\\n\\n\\n\\n\\n\\n\\n\\n\\n\\n\\n\\n\\n\\n\\n\\n\\n\\n\\n\\n\\n\\n\\n\\n\\n\\n\\n\\n\\n\\n\\n\\n\\n\\n\\n\\n\\n\\n\\n\\n\\n\\n\\n\\n\\n\\n\\n\\nSponsors via Open Collective\\nPlatinum\\n\\n\\nGold\\n\\n\\n\\n\\n\\n\\nIntroduction\\nVue (pronounced /vjuː/, like view) is a progressive framework for building user interfaces. It is designed from the ground up to be incrementally adoptable, and can easily scale between a library and a framework depending on different use cases. It consists of an approachable core library that focuses on the view layer only, and an ecosystem of supporting libraries that helps you tackle complexity in large Single-Page Applications.\\nBrowser Compatibility\\nVue.js supports all browsers that are ES5-compliant (IE8 and below are not supported).\\nEcosystem\\n\\n\\n\\nProject\\nStatus\\nDescription\\n\\n\\n\\n\\nvue-router\\n\\nSingle-page application routing\\n\\n\\nvuex\\n\\nLarge-scale state management\\n\\n\\nvue-cli\\n\\nProject scaffolding\\n\\n\\nvue-loader\\n\\nSingle File Component (*.vue file) loader for webpack\\n\\n\\nvue-server-renderer\\n\\nServer-side rendering support\\n\\n\\nvue-class-component\\n\\nTypeScript decorator for a class-based API\\n\\n\\nvue-rx\\n\\nRxJS integration\\n\\n\\nvue-devtools\\n\\nBrowser DevTools extension\\n\\n\\n\\nDocumentation\\nTo check out live examples and docs, visit vuejs.org.\\nQuestions\\nFor questions and support please use the official forum or community chat. The issue list of this repo is exclusively for bug reports and feature requests.\\nIssues\\nPlease make sure to read the Issue Reporting Checklist before opening an issue. Issues not conforming to the guidelines may be closed immediately.\\nChangelog\\nDetailed changes for each release are documented in the release notes.\\nStay In Touch\\n\\nTwitter\\nBlog\\nJob Board\\n\\nContribution\\nPlease make sure to read the Contributing Guide before making a pull request. If you have a Vue-related project/component/tool, add it with a pull request to this curated list!\\nThank you to all the people who already contributed to Vue!\\n\\nLicense\\nMIT\\nCopyright (c) 2013-present, Yuxi (Evan) You\\n\\n\", \"\\n\\n\\n\\n\\n\\nBootstrap\\n\\n  Sleek, intuitive, and powerful front-end framework for faster and easier web development.\\n  \\nExplore Bootstrap docs »\\n\\n\\nReport bug\\n  ·\\n  Request feature\\n  ·\\n  Themes\\n  ·\\n  Blog\\n\\nTable of contents\\n\\nQuick start\\nStatus\\nWhat's included\\nBugs and feature requests\\nDocumentation\\nContributing\\nCommunity\\nVersioning\\nCreators\\nThanks\\nCopyright and license\\n\\nQuick start\\nSeveral quick start options are available:\\n\\nDownload the latest release.\\nClone the repo: git clone https://github.com/twbs/bootstrap.git\\nInstall with npm: npm install bootstrap\\nInstall with yarn: yarn add bootstrap@4.3.1\\nInstall with Composer: composer require twbs/bootstrap:4.3.1\\nInstall with NuGet: CSS: Install-Package bootstrap Sass: Install-Package bootstrap.sass\\n\\nRead the Getting started page for information on the framework contents, templates and examples, and more.\\nStatus\\n\\n\\n\\n\\n\\n\\n\\n\\n\\n\\n\\n\\n\\n\\n\\nWhat's included\\nWithin the download you'll find the following directories and files, logically grouping common assets and providing both compiled and minified variations. You'll see something like this:\\nbootstrap/\\n└── dist/\\n    ├── css/\\n    │   ├── bootstrap-grid.css\\n    │   ├── bootstrap-grid.css.map\\n    │   ├── bootstrap-grid.min.css\\n    │   ├── bootstrap-grid.min.css.map\\n    │   ├── bootstrap-reboot.css\\n    │   ├── bootstrap-reboot.css.map\\n    │   ├── bootstrap-reboot.min.css\\n    │   ├── bootstrap-reboot.min.css.map\\n    │   ├── bootstrap.css\\n    │   ├── bootstrap.css.map\\n    │   ├── bootstrap.min.css\\n    │   └── bootstrap.min.css.map\\n    └── js/\\n        ├── bootstrap.bundle.js\\n        ├── bootstrap.bundle.js.map\\n        ├── bootstrap.bundle.min.js\\n        ├── bootstrap.bundle.min.js.map\\n        ├── bootstrap.esm.js\\n        ├── bootstrap.esm.js.map\\n        ├── bootstrap.esm.min.js\\n        ├── bootstrap.esm.min.js.map\\n        ├── bootstrap.js\\n        ├── bootstrap.js.map\\n        ├── bootstrap.min.js\\n        └── bootstrap.min.js.map\\n\\nWe provide compiled CSS and JS (bootstrap.*), as well as compiled and minified CSS and JS (bootstrap.min.*). source maps (bootstrap.*.map) are available for use with certain browsers' developer tools. Bundled JS files (bootstrap.bundle.js and minified bootstrap.bundle.min.js) include Popper.\\nBugs and feature requests\\nHave a bug or a feature request? Please first read the issue guidelines and search for existing and closed issues. If your problem or idea is not addressed yet, please open a new issue.\\nDocumentation\\nBootstrap's documentation, included in this repo in the root directory, is built with Hugo and publicly hosted on GitHub Pages at https://getbootstrap.com/. The docs may also be run locally.\\nDocumentation search is powered by Algolia's DocSearch. Working on our search? Be sure to set debug: true in site/static/docs/4.3/assets/js/src/search.js file.\\nRunning documentation locally\\n\\nRun npm install to install the Node.js dependencies, including Hugo (the site builder).\\nRun npm run test (or a specific npm script) to rebuild distributed CSS and JavaScript files, as well as our docs assets.\\nFrom the root /bootstrap directory, run npm run docs-serve in the command line.\\nOpen http://localhost:9001/ in your browser, and voilà.\\n\\nLearn more about using Hugo by reading its documentation.\\nDocumentation for previous releases\\nYou can find all our previous releases docs on https://getbootstrap.com/docs/versions/.\\nPrevious releases and their documentation are also available for download.\\nContributing\\nPlease read through our contributing guidelines. Included are directions for opening issues, coding standards, and notes on development.\\nMoreover, if your pull request contains JavaScript patches or features, you must include relevant unit tests. All HTML and CSS should conform to the Code Guide, maintained by Mark Otto.\\nEditor preferences are available in the editor config for easy use in common text editors. Read more and download plugins at https://editorconfig.org/.\\nCommunity\\nGet updates on Bootstrap's development and chat with the project maintainers and community members.\\n\\nFollow @getbootstrap on Twitter.\\nRead and subscribe to The Official Bootstrap Blog.\\nJoin the official Slack room.\\nChat with fellow Bootstrappers in IRC. On the irc.freenode.net server, in the ##bootstrap channel.\\nImplementation help may be found at Stack Overflow (tagged bootstrap-4).\\nDevelopers should use the keyword bootstrap on packages which modify or add to the functionality of Bootstrap when distributing through npm or similar delivery mechanisms for maximum discoverability.\\n\\nVersioning\\nFor transparency into our release cycle and in striving to maintain backward compatibility, Bootstrap is maintained under the Semantic Versioning guidelines. Sometimes we screw up, but we adhere to those rules whenever possible.\\nSee the Releases section of our GitHub project for changelogs for each release version of Bootstrap. Release announcement posts on the official Bootstrap blog contain summaries of the most noteworthy changes made in each release.\\nCreators\\nMark Otto\\n\\nhttps://twitter.com/mdo\\nhttps://github.com/mdo\\n\\nJacob Thornton\\n\\nhttps://twitter.com/fat\\nhttps://github.com/fat\\n\\nThanks\\n\\n\\n\\nThanks to BrowserStack for providing the infrastructure that allows us to test in real browsers!\\nBackers\\nThank you to all our backers! 🙏 [Become a backer]\\n\\nSponsors\\nSupport this project by becoming a sponsor. Your logo will show up here with a link to your website. [Become a sponsor]\\n\\n\\n\\n\\n\\n\\n\\n\\n\\n\\nCopyright and license\\nCode and documentation copyright 2011-2019 the Bootstrap Authors and Twitter, Inc. Code released under the MIT License. Docs released under Creative Commons.\\n\\n\"]\n",
      "['None', 'Rust', 'JavaScript', 'JavaScript']\n"
     ]
    }
   ],
   "source": [
    "urls = ['https://github.com/EbookFoundation/free-programming-books', 'https://github.com/996icu/996.ICU',\n",
    "        'https://github.com/vuejs/vue', 'https://github.com/twbs/bootstrap']\n",
    "readmes = []\n",
    "languages = []\n",
    "for url in urls:\n",
    "    response = get(url)\n",
    "    soup = BeautifulSoup(response.content, 'html.parser')\n",
    "    print('Retrieving README')\n",
    "    single_readme = soup.find('div', class_='Box-body').text\n",
    "    readmes.append(single_readme)\n",
    "    print('Got README')\n",
    "    print('Retrieving language')\n",
    "    if soup.find('span', class_='lang') == None:\n",
    "        print('No language found')\n",
    "        repo_language = 'None'\n",
    "    else:\n",
    "        repo_language = soup.find('span', class_='lang').text\n",
    "        print('Got language')\n",
    "    languages.append(repo_language)\n",
    "    #         article = soup.find('div', class_='mk-single-content')\n",
    "    #         article_dict = {}\n",
    "    #         article_dict['title'] = site.split('/')[-2].replace('-', '_')\n",
    "    #         article_dict['body'] = article.text\n",
    "    print(readmes)\n",
    "    print(languages)"
   ]
  },
  {
   "cell_type": "code",
   "execution_count": 40,
   "metadata": {},
   "outputs": [
    {
     "name": "stdout",
     "output_type": "stream",
     "text": [
      "Retrieving README for https://github.com/freeCodeCamp/freeCodeCamp\n",
      "Retrieving README for https://github.com/996icu/996.ICU\n",
      "Retrieving README for https://github.com/vuejs/vue\n",
      "Retrieving README for https://github.com/twbs/bootstrap\n"
     ]
    },
    {
     "data": {
      "text/plain": [
       "[\"\\n\\n\\n\\n\\n\\nWelcome to freeCodeCamp.org's open source codebase and curriculum!\\nfreeCodeCamp.org is a friendly community where you can learn to code for free. It is run by a donor-supported 501(c)(3) nonprofit with the goal of helping millions of busy adults transition into tech. Our community has already helped more than 10,000 people get their first developer job.\\nOur full-stack web development curriculum is completely free and self-paced. We have thousands of interactive coding challenges to help you expand your skills.\\nTable of Contents\\n\\nCertifications\\nThe Learning Platform\\nFound a Bug\\nFound a Security Issue\\nContributing\\nLicense\\n\\nCertifications\\nfreeCodeCamp.org offers several free developer certifications. Each of these certifications involves building 5 required web app projects, along with hundreds of optional coding challenges to help you prepare for those projects. We estimate that each certification will take a beginning programmer around 300 hours to earn.\\nEach of these 30 projects in the freeCodeCamp.org curriculum has its own agile user stories and automated tests. These help you build up your project incrementally and ensure you've fulfilled all the user stories before you submit it.\\nYou can pull in these test suites through freeCodeCamp's CDN. This means you can build these projects on websites like CodePen and Glitch - or even on your local computer's development environment.\\nOnce you’ve earned a certification, you will always have it. You will always be able to link to it from your LinkedIn or résumé. And when your prospective employers or freelance clients click that link, they’ll see a verified certification specific to you.\\nThe one exception to this is in the event that we discover violations of our Academic Honesty Policy. When we catch people unambiguously plagiarizing (submitting other people's code or projects as their own without citation), we do what all rigorous institutions of learning should do - we revoke their certifications and ban those people.\\nHere are our six core certifications:\\n1. Responsive Web Design Certification\\n\\nBasic HTML and HTML5\\nBasic CSS\\nApplied Visual Design\\nApplied Accessibility\\nResponsive Web Design Principles\\nCSS Flexbox\\nCSS Grid\\n\\n\\nProjects: Tribute Page, Survey Form, Product Landing Page, Technical Documentation Page, Personal Portfolio Webpage\\n\\n2. JavaScript Algorithms and Data Structures Certification\\n\\nBasic JavaScript\\nES6\\nRegular Expressions\\nDebugging\\nBasic Data Structures\\nAlgorithm Scripting\\nObject Oriented Programming\\nFunctional Programming\\nIntermediate Algorithm Scripting\\n\\n\\nProjects: Palindrome Checker, Roman Numeral Converter, Caesar's Cipher, Telephone Number Validator, Cash Register\\n\\n3. Front End Libraries Certification\\n\\nBootstrap\\njQuery\\nSass\\nReact\\nRedux\\nReact and Redux\\n\\n\\nProjects: Random Quote Machine, Markdown Previewer, Drum Machine, JavaScript Calculator, Pomodoro Clock\\n\\n4. Data Visualization Certification\\n\\nData Visualization with D3\\nJSON APIs and Ajax\\n\\n\\nProjects: Bar Chart, Scatterplot Graph, Heat Map, Choropleth Map, Treemap Diagram\\n\\n5. APIs and Microservices Certification\\n\\nManaging Packages with Npm\\nBasic Node and Express\\nMongoDB and Mongoose\\n\\n\\nProjects: Timestamp Microservice, Request Header Parser, URL Shortener, Exercise Tracker, File Metadata Microservice\\n\\n6. Information Security and Quality Assurance Certification\\n\\nInformation Security with HelmetJS\\nQuality Assurance and Testing with Chai\\nAdvanced Node and Express\\n\\n\\nProjects: Metric-Imperial Converter, Issue Tracker, Personal Library, Stock Price Checker, Anonymous Message Board\\n\\nFull Stack Development Certification\\nOnce you have earned all 6 of these certifications, you'll be able to claim your freeCodeCamp.org Full Stack Development Certification. This final distinction signifies that you’ve completed around 1,800 hours of coding with a wide range of web development tools.\\nLegacy Certifications\\nWe also have 3 legacy certifications from our 2015 curriculum, which are still available. All of the required projects for these legacy certifications will remain available on freeCodeCamp.org.\\n\\nLegacy Front End Development Certification\\nLegacy Data Visualization Certification\\nLegacy Back End Development Certification\\n\\nThe Learning Platform\\nThis code is running live at freeCodeCamp.org.\\nOur community also has:\\n\\nA forum where you can usually get programming help or project feedback within hours.\\nA YouTube channel with free courses on Python, SQL, Android, and a wide variety of other technologies.\\nA podcast with technology insights and inspiring stories from developers.\\nLocal study groups around the world, where you can code together in person\\nA comprehensive guide to thousands of programming topics\\nMedium's largest technical publication\\nA Facebook group with over 100,000 members worldwide\\n\\nJoin our community here.\\nFound a bug?\\nIf you think you've found a bug, first read the Help I've Found a Bug article and follow its instructions. If you're confident it's a new bug, and have confirmed that someone else is facing the same issue, go ahead and create a new GitHub issue. Be sure to include as much information as possible so we can reproduce the bug.\\nFound a security issue?\\nPlease don't create GitHub issues for security issues. Instead, please send an email to security@freecodecamp.org and we'll look into it immediately.\\nContributing\\nPlease follow these steps to contribute.\\nLicense\\nCopyright © 2019 freeCodeCamp.org\\nThe content of this repository is bound by the following licenses:\\n\\nThe computer software is licensed under the BSD-3-Clause license.\\nThe learning resources in the /curriculum and /guide directories including their subdirectories thereon are licensed under the CC-BY-SA-4.0 license.\\n\\n\\n\",\n",
       " '\\n996.ICU\\nPlease note that there exists NO other official account, app or merchandise except for the official domain and this repository.\\n\\n中文版\\n\\nThe name 996.ICU refers to \"Work by \\'996\\', sick in ICU\", an ironic saying among Chinese developers, which means that by following the \"996\" work schedule, you are risking yourself getting into the ICU (Intensive Care Unit).\\n\\n\\n\\n\\nRelated press coverage:\\n\\nRadiiChina: GitHub Protest Over Chinese Tech Companies’ “996” Culture Goes Viral\\nFinancial Times: China tech worker protest against long working hours goes viral\\nWired: How github is helping overworked Chinese programmers\\n\\nSee a full list of press\\nWhat is 996?\\nA \"996\" work schedule refers to an unofficial work schedule (9 a.m.–9 p.m., 6 days per week) that has been gaining popularity. Serving a company that encourages the \"996\" work schedule usually means working for at least 60 hours per week.\\nVisit 996 working hour system on Wikipedia for more details.\\nWhat can I do?\\n\\nUpdate this list with evidence to help every worker.  Third party perfect list channel\\nAdd this badge to your project to support 996.ICU.\\nLicense your awesome projects with the Anti 996 License.\\nAdd proposals to give advice about the development of 996.ICU.\\nGo home at 6 pm without feeling sorry.\\n\\nVoices\\nGovernment\\n\\nThe 996 shall disappear\\n\\nCapitalists\\n\\nJack Ma, founder of Alibaba: \\'996\\' is a huge blessing.\\nRichard Liu, founder of JD.com: We will never force our employee to work as \\'996\\'.\\nHowever, as a result many anonymous employees says that there is a list of departments which ranked them by overtime hours. The shortest will take punishments. And the leaders never leave evidences when ask employees to work as \\'996\\'.\\nBai Ya, founder of Youzan: This will definitely be a right decision when we look back in a few years\\n\\nPrinciples and purposes\\n\\n\\n996.ICU is an initiative initiated by IT practitioners. We welcome people from other fields and other countries to join the discussion.\\n\\n\\nThis is not a political movement. We firmly uphold the labor law and request employers to respect the legitimate rights and interests of their employees.\\n\\n\\nIt is great progress from closed source to open source, and it will also be great progress from open source to emphasizing labor rights at the same time. What we want is to create an open source software license that advocates workers\\' rights.\\n\\n\\nWe are willing to hear all positive and constructive proposals and advocate mature and responsible speech.\\n\\n\\nExpanding influence\\nPlease feel free to translate 996.ICU\\'s contents, adjust the format, add some contents or fix grammatical errors. Please note that adding too many translations is getting off the track.\\nCommunity powers\\n\\n955.WLB is a repo that maintains a whitelist of 955 work-life balanced companies.\\n996.LIST is a repo of a rank list of 996 companies and 955 companies.\\n996.law This is a manual for workers who want to conduct labor arbitration and litigation on their own.\\n996.YAOCL Yet Another Overtime Corps List, current another anonymous voting list.\\n996.Leave encourages & introduces working overseas.\\n996.RIP Old news never vanished.\\n996.Petition initiates petitions by sending open letters to relevant government departments.\\n996.action Supporters are encouraged to participate in public supervision.\\n996.avengers adds 996ICU and 955WLB tags on recruitment websites.\\n996.OD occupational diseases are the forewarning of ICU.\\nsupport.996.ICU Microsoft and GitHub Workers Support 996.ICU\\n\\nWhere are the issues?\\nEven with interaction limits on, the issues area was totally out of control.\\nSo I personally decided to switch it off, not by GitHub or others.\\nLicense\\nAnti-996 License\\n\\n\\nThe purpose of this license is to prevent anti-labour-law companies from using the software or codes under the license, and force those companies to weigh their way of working\\n\\n\\nSee a full list of projects under Anti-996 License\\n\\n\\nThis draft is adapted from the MIT license. For a more detailed explanation, please see Wiki. This license is designed to be compatible with all major open source licenses.\\n\\n\\nFor law professionals or anyone who is willing to contribute to future version directly, please go to Anti-996-License-1.0. Thank you.\\n\\n\\nContact\\nYou can reach me by E-mail if you need.\\n\\n',\n",
       " \"\\n\\n\\n\\n\\n\\n\\n\\n\\n\\n\\n\\nSupporting Vue.js\\nVue.js is an MIT-licensed open source project with its ongoing development made possible entirely by the support of these awesome backers. If you'd like to join them, please consider:\\n\\nBecome a backer or sponsor on Patreon.\\nBecome a backer or sponsor on Open Collective.\\nOne-time donation via PayPal or crypto-currencies.\\n\\nWhat's the difference between Patreon and OpenCollective?\\nFunds donated via Patreon go directly to support Evan You's full-time work on Vue.js. Funds donated via OpenCollective are managed with transparent expenses and will be used for compensating work and expenses for core team members or sponsoring community events. Your name/logo will receive proper recognition and exposure by donating on either platform.\\nSpecial Sponsors\\n\\n\\n\\n\\n\\nPlatinum Sponsors\\n\\n\\n\\n\\n\\n\\n\\n\\n\\n\\n\\n\\n\\n\\n\\n\\n\\n\\n\\n\\n\\n\\n\\n\\n\\n\\n\\n\\n\\n\\n\\n\\n\\n\\n\\n\\n\\n\\nPlatinum Sponsors (China)\\n\\n\\n\\n\\n\\n\\n\\n\\n\\n\\n\\nGold Sponsors\\n\\n\\n\\n\\n\\n\\n\\n\\n\\n\\n\\n\\n\\n\\n\\n\\n\\n\\n\\n\\n\\n\\n\\n\\n\\n\\n\\n\\n\\n\\n\\n\\n\\n\\n\\n\\n\\n\\n\\n\\n\\n\\n\\n\\n\\n\\n\\n\\n\\n\\n\\n\\n\\n\\n\\n\\n\\n\\n\\n\\n\\n\\n\\n\\n\\n\\n\\n\\n\\n\\n\\n\\n\\n\\n\\n\\n\\n\\n\\n\\n\\n\\n\\n\\n\\n\\n\\n\\n\\n\\n\\n\\n\\n\\n\\n\\n\\n\\n\\n\\n\\n\\n\\n\\n\\n\\n\\n\\n\\n\\n\\n\\n\\n\\n\\n\\n\\n\\n\\n\\n\\n\\n\\n\\n\\n\\n\\n\\n\\n\\n\\n\\n\\n\\n\\n\\n\\n\\n\\n\\n\\n\\n\\n\\nSponsors via Open Collective\\nPlatinum\\n\\n\\nGold\\n\\n\\n\\n\\n\\n\\nIntroduction\\nVue (pronounced /vjuː/, like view) is a progressive framework for building user interfaces. It is designed from the ground up to be incrementally adoptable, and can easily scale between a library and a framework depending on different use cases. It consists of an approachable core library that focuses on the view layer only, and an ecosystem of supporting libraries that helps you tackle complexity in large Single-Page Applications.\\nBrowser Compatibility\\nVue.js supports all browsers that are ES5-compliant (IE8 and below are not supported).\\nEcosystem\\n\\n\\n\\nProject\\nStatus\\nDescription\\n\\n\\n\\n\\nvue-router\\n\\nSingle-page application routing\\n\\n\\nvuex\\n\\nLarge-scale state management\\n\\n\\nvue-cli\\n\\nProject scaffolding\\n\\n\\nvue-loader\\n\\nSingle File Component (*.vue file) loader for webpack\\n\\n\\nvue-server-renderer\\n\\nServer-side rendering support\\n\\n\\nvue-class-component\\n\\nTypeScript decorator for a class-based API\\n\\n\\nvue-rx\\n\\nRxJS integration\\n\\n\\nvue-devtools\\n\\nBrowser DevTools extension\\n\\n\\n\\nDocumentation\\nTo check out live examples and docs, visit vuejs.org.\\nQuestions\\nFor questions and support please use the official forum or community chat. The issue list of this repo is exclusively for bug reports and feature requests.\\nIssues\\nPlease make sure to read the Issue Reporting Checklist before opening an issue. Issues not conforming to the guidelines may be closed immediately.\\nChangelog\\nDetailed changes for each release are documented in the release notes.\\nStay In Touch\\n\\nTwitter\\nBlog\\nJob Board\\n\\nContribution\\nPlease make sure to read the Contributing Guide before making a pull request. If you have a Vue-related project/component/tool, add it with a pull request to this curated list!\\nThank you to all the people who already contributed to Vue!\\n\\nLicense\\nMIT\\nCopyright (c) 2013-present, Yuxi (Evan) You\\n\\n\",\n",
       " \"\\n\\n\\n\\n\\n\\nBootstrap\\n\\n  Sleek, intuitive, and powerful front-end framework for faster and easier web development.\\n  \\nExplore Bootstrap docs »\\n\\n\\nReport bug\\n  ·\\n  Request feature\\n  ·\\n  Themes\\n  ·\\n  Blog\\n\\nTable of contents\\n\\nQuick start\\nStatus\\nWhat's included\\nBugs and feature requests\\nDocumentation\\nContributing\\nCommunity\\nVersioning\\nCreators\\nThanks\\nCopyright and license\\n\\nQuick start\\nSeveral quick start options are available:\\n\\nDownload the latest release.\\nClone the repo: git clone https://github.com/twbs/bootstrap.git\\nInstall with npm: npm install bootstrap\\nInstall with yarn: yarn add bootstrap@4.3.1\\nInstall with Composer: composer require twbs/bootstrap:4.3.1\\nInstall with NuGet: CSS: Install-Package bootstrap Sass: Install-Package bootstrap.sass\\n\\nRead the Getting started page for information on the framework contents, templates and examples, and more.\\nStatus\\n\\n\\n\\n\\n\\n\\n\\n\\n\\n\\n\\n\\n\\n\\n\\nWhat's included\\nWithin the download you'll find the following directories and files, logically grouping common assets and providing both compiled and minified variations. You'll see something like this:\\nbootstrap/\\n└── dist/\\n    ├── css/\\n    │   ├── bootstrap-grid.css\\n    │   ├── bootstrap-grid.css.map\\n    │   ├── bootstrap-grid.min.css\\n    │   ├── bootstrap-grid.min.css.map\\n    │   ├── bootstrap-reboot.css\\n    │   ├── bootstrap-reboot.css.map\\n    │   ├── bootstrap-reboot.min.css\\n    │   ├── bootstrap-reboot.min.css.map\\n    │   ├── bootstrap.css\\n    │   ├── bootstrap.css.map\\n    │   ├── bootstrap.min.css\\n    │   └── bootstrap.min.css.map\\n    └── js/\\n        ├── bootstrap.bundle.js\\n        ├── bootstrap.bundle.js.map\\n        ├── bootstrap.bundle.min.js\\n        ├── bootstrap.bundle.min.js.map\\n        ├── bootstrap.esm.js\\n        ├── bootstrap.esm.js.map\\n        ├── bootstrap.esm.min.js\\n        ├── bootstrap.esm.min.js.map\\n        ├── bootstrap.js\\n        ├── bootstrap.js.map\\n        ├── bootstrap.min.js\\n        └── bootstrap.min.js.map\\n\\nWe provide compiled CSS and JS (bootstrap.*), as well as compiled and minified CSS and JS (bootstrap.min.*). source maps (bootstrap.*.map) are available for use with certain browsers' developer tools. Bundled JS files (bootstrap.bundle.js and minified bootstrap.bundle.min.js) include Popper.\\nBugs and feature requests\\nHave a bug or a feature request? Please first read the issue guidelines and search for existing and closed issues. If your problem or idea is not addressed yet, please open a new issue.\\nDocumentation\\nBootstrap's documentation, included in this repo in the root directory, is built with Hugo and publicly hosted on GitHub Pages at https://getbootstrap.com/. The docs may also be run locally.\\nDocumentation search is powered by Algolia's DocSearch. Working on our search? Be sure to set debug: true in site/static/docs/4.3/assets/js/src/search.js file.\\nRunning documentation locally\\n\\nRun npm install to install the Node.js dependencies, including Hugo (the site builder).\\nRun npm run test (or a specific npm script) to rebuild distributed CSS and JavaScript files, as well as our docs assets.\\nFrom the root /bootstrap directory, run npm run docs-serve in the command line.\\nOpen http://localhost:9001/ in your browser, and voilà.\\n\\nLearn more about using Hugo by reading its documentation.\\nDocumentation for previous releases\\nYou can find all our previous releases docs on https://getbootstrap.com/docs/versions/.\\nPrevious releases and their documentation are also available for download.\\nContributing\\nPlease read through our contributing guidelines. Included are directions for opening issues, coding standards, and notes on development.\\nMoreover, if your pull request contains JavaScript patches or features, you must include relevant unit tests. All HTML and CSS should conform to the Code Guide, maintained by Mark Otto.\\nEditor preferences are available in the editor config for easy use in common text editors. Read more and download plugins at https://editorconfig.org/.\\nCommunity\\nGet updates on Bootstrap's development and chat with the project maintainers and community members.\\n\\nFollow @getbootstrap on Twitter.\\nRead and subscribe to The Official Bootstrap Blog.\\nJoin the official Slack room.\\nChat with fellow Bootstrappers in IRC. On the irc.freenode.net server, in the ##bootstrap channel.\\nImplementation help may be found at Stack Overflow (tagged bootstrap-4).\\nDevelopers should use the keyword bootstrap on packages which modify or add to the functionality of Bootstrap when distributing through npm or similar delivery mechanisms for maximum discoverability.\\n\\nVersioning\\nFor transparency into our release cycle and in striving to maintain backward compatibility, Bootstrap is maintained under the Semantic Versioning guidelines. Sometimes we screw up, but we adhere to those rules whenever possible.\\nSee the Releases section of our GitHub project for changelogs for each release version of Bootstrap. Release announcement posts on the official Bootstrap blog contain summaries of the most noteworthy changes made in each release.\\nCreators\\nMark Otto\\n\\nhttps://twitter.com/mdo\\nhttps://github.com/mdo\\n\\nJacob Thornton\\n\\nhttps://twitter.com/fat\\nhttps://github.com/fat\\n\\nThanks\\n\\n\\n\\nThanks to BrowserStack for providing the infrastructure that allows us to test in real browsers!\\nBackers\\nThank you to all our backers! 🙏 [Become a backer]\\n\\nSponsors\\nSupport this project by becoming a sponsor. Your logo will show up here with a link to your website. [Become a sponsor]\\n\\n\\n\\n\\n\\n\\n\\n\\n\\n\\nCopyright and license\\nCode and documentation copyright 2011-2019 the Bootstrap Authors and Twitter, Inc. Code released under the MIT License. Docs released under Creative Commons.\\n\\n\"]"
      ]
     },
     "execution_count": 40,
     "metadata": {},
     "output_type": "execute_result"
    }
   ],
   "source": [
    "urls = ['https://github.com/freeCodeCamp/freeCodeCamp', 'https://github.com/996icu/996.ICU',\n",
    "        'https://github.com/vuejs/vue', 'https://github.com/twbs/bootstrap']\n",
    "grab_readmes(urls)"
   ]
  },
  {
   "cell_type": "markdown",
   "metadata": {},
   "source": [
    "# PREPARE"
   ]
  },
  {
   "cell_type": "code",
   "execution_count": null,
   "metadata": {},
   "outputs": [],
   "source": []
  },
  {
   "cell_type": "code",
   "execution_count": null,
   "metadata": {},
   "outputs": [],
   "source": []
  },
  {
   "cell_type": "code",
   "execution_count": null,
   "metadata": {},
   "outputs": [],
   "source": []
  },
  {
   "cell_type": "markdown",
   "metadata": {},
   "source": [
    "# EXPLORE"
   ]
  },
  {
   "cell_type": "code",
   "execution_count": null,
   "metadata": {},
   "outputs": [],
   "source": []
  },
  {
   "cell_type": "code",
   "execution_count": null,
   "metadata": {},
   "outputs": [],
   "source": []
  },
  {
   "cell_type": "code",
   "execution_count": null,
   "metadata": {},
   "outputs": [],
   "source": []
  },
  {
   "cell_type": "markdown",
   "metadata": {},
   "source": [
    "# MODEL"
   ]
  },
  {
   "cell_type": "code",
   "execution_count": null,
   "metadata": {},
   "outputs": [],
   "source": []
  },
  {
   "cell_type": "code",
   "execution_count": null,
   "metadata": {},
   "outputs": [],
   "source": []
  },
  {
   "cell_type": "code",
   "execution_count": null,
   "metadata": {},
   "outputs": [],
   "source": []
  }
 ],
 "metadata": {
  "kernelspec": {
   "display_name": "Python 3",
   "language": "python",
   "name": "python3"
  },
  "language_info": {
   "codemirror_mode": {
    "name": "ipython",
    "version": 3
   },
   "file_extension": ".py",
   "mimetype": "text/x-python",
   "name": "python",
   "nbconvert_exporter": "python",
   "pygments_lexer": "ipython3",
   "version": "3.7.1"
  }
 },
 "nbformat": 4,
 "nbformat_minor": 2
}
